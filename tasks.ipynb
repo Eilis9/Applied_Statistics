{
 "cells": [
  {
   "cell_type": "markdown",
   "metadata": {},
   "source": [
    "<h1><img align=\"right\" width=\"350\" src=\"img/ATU-Logo-Full-RGB-Green.jpg\"> Applied Statistics - Module Tasks\n",
    "</h1>\n",
    "<p> \n",
    "Course: HDip in Computing in Data Analytics <br>\n",
    "Module: Applied Statistics <br>\n",
    "Lecturer: Ian McLoughlin <br>\n",
    "\n",
    "Module Tasks\n",
    "\n",
    "Student: Eilis Donohue (G00006088)\n",
    "\n",
    "\n",
    "Software Used: \n",
    " - Python v3.10 and higher [HOLD]\n",
    " - Jupyter Notebook 6.5.2 [HOLD] \n",
    " </p>\n",
    " \n",
    "---"
   ]
  },
  {
   "cell_type": "markdown",
   "metadata": {},
   "source": [
    "## Table of Contents [HOLD]\n",
    "\n",
    "\n",
    "---"
   ]
  },
  {
   "cell_type": "markdown",
   "metadata": {},
   "source": [
    "\n",
    "### Task 1 - Lady Tasting Tea\n",
    "\n",
    "If there are 12 cups of tea - 6 of which have the tea added first then the problem becomes [1]:\n",
    "\n",
    "$ \n",
    "12 choose 6\n",
    "\n",
    "12!/(6! * (12-6)!)\n",
    "\n",
    "There are 924 possible permutations given a completely random outcome of 12 cups with or without milk first! There is a 1 in 924 chance of identifying the 6 cups correctly."
   ]
  },
  {
   "cell_type": "code",
   "execution_count": 94,
   "metadata": {},
   "outputs": [
    {
     "name": "stdout",
     "output_type": "stream",
     "text": [
      "The total number of combination selections for 12 cups where 6 are chosen is 924\n",
      "Probability of guessing 6 cups with given attribute correctly is 0.0011 or 0.11%\n"
     ]
    }
   ],
   "source": [
    "# Python implementation of the Lady Tasting Tea problem\n",
    "import math\n",
    "\n",
    "# Function to compute the number of combinations of selection\n",
    "def combinations_form(n, k):\n",
    "  combinations = math.factorial(n) / (math.factorial(k) * math.factorial (n - k))   # [1]\n",
    "  return combinations\n",
    "\n",
    "cups = 12      # no of cups\n",
    "choose = 6      # no of cups to choose which have a given attribute (milk first!)\n",
    "\n",
    "combinations = combinations_form(cups, choose)\n",
    "Prob = 1 / combinations\n",
    "Prob\n",
    "print(f'The total number of combination selections for {cups} cups where {choose} are chosen is {combinations:.0f}')\n",
    "print(f'Probability of guessing {choose} cups with given attribute correctly is {Prob:.4f} or {Prob*100:.2f}%')\n"
   ]
  },
  {
   "cell_type": "code",
   "execution_count": 89,
   "metadata": {},
   "outputs": [
    {
     "name": "stdout",
     "output_type": "stream",
     "text": [
      "Number of ways for 1 mistake 36.0\n",
      "Number of ways for 2 mistakes 225.0\n",
      "The number of combinations for where there is 1 error allowed in 6 cups is 37.0\n",
      "Probability of guessing at least 5 of 6 cups is 0.0400 or 4.00%\n",
      "Probability of guessing at least 4 of 6 cups is 0.2835 or 28.35%\n"
     ]
    }
   ],
   "source": [
    "# Python implementation of problem with 1 'mistake' or success count of 5\n",
    "\n",
    "no_of_combo_1_mistake = (combinations_form(choose, choose-1))**2\n",
    "no_of_combo_2_mistake = (combinations_form(choose, choose-2))**2\n",
    "print(f'Number of combinations for 1 mistake {no_of_combo_1_mistake}')\n",
    "print(f'Number of combinations for 2 mistakes {no_of_combo_2_mistake}')\n",
    "    \n",
    "combinations_1err = 1 + no_of_combo_1_mistake  \n",
    "Prob_1err = combinations_1err / combinations\n",
    "combinations_2err = combinations_1err + no_of_combo_2_mistake \n",
    "Prob_2err = combinations_2err / combinations\n",
    "print(f'The number of combinations for where there is 1 error allowed in {choose} cups is {combinations_1err}')\n",
    "print(f'Probability of guessing at least {choose-1} of {choose} cups is {Prob_1err:.4f} or {Prob_1err*100:.2f}%')\n",
    "print(f'Probability of guessing at least {choose-2} of {choose} cups is {Prob_2err:.4f} or {Prob_2err*100:.2f}%')"
   ]
  },
  {
   "cell_type": "markdown",
   "metadata": {},
   "source": [
    "## References\n",
    "\n",
    "1. https://en.wikipedia.org/wiki/Lady_tasting_tea (accessed 23th Sept 2024)\n",
    "2. https://en.wikipedia.org/wiki/Hypergeometric_distribution (accessed 26th Sept 2024)\n"
   ]
  }
 ],
 "metadata": {
  "kernelspec": {
   "display_name": "base",
   "language": "python",
   "name": "python3"
  },
  "language_info": {
   "codemirror_mode": {
    "name": "ipython",
    "version": 3
   },
   "file_extension": ".py",
   "mimetype": "text/x-python",
   "name": "python",
   "nbconvert_exporter": "python",
   "pygments_lexer": "ipython3",
   "version": "3.10.9"
  }
 },
 "nbformat": 4,
 "nbformat_minor": 2
}
