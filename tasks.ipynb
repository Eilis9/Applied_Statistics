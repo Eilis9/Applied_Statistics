{
 "cells": [
  {
   "cell_type": "markdown",
   "metadata": {},
   "source": [
    "<h1><img align=\"right\" width=\"350\" src=\"img/ATU-Logo-Full-RGB-Green.jpg\"> Applied Statistics - Module Tasks\n",
    "</h1>\n",
    "<p> \n",
    "Course: HDip in Computing in Data Analytics <br>\n",
    "Module: Applied Statistics <br>\n",
    "Lecturer: Ian McLoughlin <br>\n",
    "\n",
    "Module Tasks\n",
    "\n",
    "Student: Eilis Donohue (G00006088)\n",
    "\n",
    "\n",
    "Software Used: \n",
    " - Python v3.10 and higher [HOLD]\n",
    " - Jupyter Notebook 6.5.2 [HOLD] \n",
    " </p>\n",
    " \n",
    "---"
   ]
  },
  {
   "cell_type": "markdown",
   "metadata": {},
   "source": [
    "## Table of Contents\n",
    "- [Task 1 - Lady Tasting Tea](#Task1)\n",
    "- [Task 2 - numpy's Normal Distribution](#Task2)\n",
    "- [Task 3 - t-test Calculation](#Task3)\n",
    "- [Task 4 - ANOVA](#Task4)\n",
    "- [References](#Ref)\n",
    "\n",
    "\n",
    "---"
   ]
  },
  {
   "cell_type": "markdown",
   "metadata": {},
   "source": [
    "\n",
    "### Task 1 - Lady Tasting Tea <a id=\"Task1\"></a> <span style=\"font-size: 8pt;\"> [[TOC]](#toc)</span>\n",
    "\n",
    "The possible number of combinations considering n number of cups with k number which have the attribute are computed using the binomial coefficient [1]:\n",
    "\n",
    "$ \\binom{n}{k} = \\frac{n!}{k!(n-k)!} $\n",
    "\n",
    "If there are 12 cups of tea - 6 of which have the tea added first then the problem becomes:\n",
    "\n",
    "$ \\binom{12}{6} = \\frac{12!}{6!(12-6)!} $\n",
    "\n",
    "There are 924 possible permutations given a completely random outcome of 12 cups with 6 having the attribute (milk first). Therefore there is a 1 in 924 chance of identifying the 6 cups correctly."
   ]
  },
  {
   "cell_type": "code",
   "execution_count": 27,
   "metadata": {},
   "outputs": [],
   "source": [
    "# Python implementation of the Lady Tasting Tea problem\n",
    "import math\n",
    "\n",
    "# Function to compute the number of combinations of selection - The binomial coefficient [1]\n",
    "def binomial_coef(n, k):\n",
    "  combinations = math.factorial(n) / (math.factorial(k) * math.factorial (n - k))   \n",
    "  return combinations"
   ]
  },
  {
   "cell_type": "code",
   "execution_count": 31,
   "metadata": {},
   "outputs": [
    {
     "name": "stdout",
     "output_type": "stream",
     "text": [
      "The total number of combination selections for 12 cups where 6 are chosen is 924\n",
      "Probability of guessing 6 cups with given attribute correctly is 0.0011 or 0.11%\n"
     ]
    }
   ],
   "source": [
    "cups = 12      # no of cups\n",
    "choose = 6     # no of cups to choose which have a given attribute (milk first!)\n",
    "\n",
    "# Calculate the total number of combinations of picking 6 cups from 12 \n",
    "total_combinations = binomial_coef(cups, choose)\n",
    "# The probability of picking all 6 with the attribute is (1 way of doing this)\n",
    "Prob_all_successes = 1 / total_combinations\n",
    "\n",
    "print(f'The total number of combination selections for {cups} cups where {choose} are chosen is {total_combinations:.0f}')\n",
    "print(f'Probability of guessing {choose} cups with given attribute correctly is {Prob_all_successes:.4f} or {Prob_all_successes*100:.2f}%')"
   ]
  },
  {
   "cell_type": "code",
   "execution_count": 32,
   "metadata": {},
   "outputs": [
    {
     "name": "stdout",
     "output_type": "stream",
     "text": [
      "Number of combinations for 1 mistake 36.0\n",
      "Number of combinations for 2 mistakes 225.0\n"
     ]
    }
   ],
   "source": [
    "# Python implementation of problem with 1 'mistake' or success count of 5, 4 etc\n",
    "\n",
    "no_of_combo_1_mistake = (binomial_coef(choose, choose-1))**2\n",
    "no_of_combo_2_mistake = (binomial_coef(choose, choose-2))**2\n",
    "print(f'Number of combinations for 1 mistake {no_of_combo_1_mistake}')\n",
    "print(f'Number of combinations for 2 mistakes {no_of_combo_2_mistake}')\n",
    "    \n"
   ]
  },
  {
   "cell_type": "code",
   "execution_count": 33,
   "metadata": {},
   "outputs": [
    {
     "name": "stdout",
     "output_type": "stream",
     "text": [
      "The number of combinations for where there is 1 error allowed in 6 cups is 37.0\n",
      "Probability of guessing at least 5 of 6 cups is 0.0400 or 4.00%\n",
      "Probability of guessing at least 4 of 6 cups is 0.2835 or 28.35%\n"
     ]
    }
   ],
   "source": [
    "combinations_1err = 1 + no_of_combo_1_mistake  \n",
    "Prob_1err = combinations_1err / total_combinations\n",
    "combinations_2err = combinations_1err + no_of_combo_2_mistake \n",
    "Prob_2err = combinations_2err / total_combinations\n",
    "print(f'The number of combinations for where there is 1 error allowed in {choose} cups is {combinations_1err}')\n",
    "print(f'Probability of guessing at least {choose-1} of {choose} cups is {Prob_1err:.4f} or {Prob_1err*100:.2f}%')\n",
    "print(f'Probability of guessing at least {choose-2} of {choose} cups is {Prob_2err:.4f} or {Prob_2err*100:.2f}%')"
   ]
  },
  {
   "cell_type": "markdown",
   "metadata": {},
   "source": [
    "The hypergeometric distribution describes probability distribution for this problem as above  [2]. It is a discrete probability distribution that describes the probability of k successes (random draws for which the object drawn has a specified feature) in n draws, without replacement, from a finite population of size N that contains exactly K objects with that feature, wherein each draw is either a success or a failure.\n",
    "\n",
    "$ px(k) = Pr(X=k) = \\frac{\\binom{K}{k} \\binom{N-K}{n-k}}{\\binom{N}{n}} ,$\n",
    "\n",
    "where\n",
    "N is the population size\n",
    "\n",
    "K is the number of success states in the population\n",
    "\n",
    "n is the number of draws\n",
    "\n",
    "k is the number of observed successes\n"
   ]
  },
  {
   "cell_type": "code",
   "execution_count": 25,
   "metadata": {},
   "outputs": [
    {
     "name": "stdout",
     "output_type": "stream",
     "text": [
      "Probability of picking exactly 4 of 6 is 0.2435 \n",
      "exactly 5 of 6 is 0.0390 \n",
      "and 6 of 6 is 0.0011\n",
      "Probability of picking at least 4 with the attribute 0.2835\n"
     ]
    }
   ],
   "source": [
    "# hypergeometric distribution\n",
    "# total number of items is N\n",
    "# no of items with the attribute is K\n",
    "# no of draws is n\n",
    "# successes is k\n",
    "#pmf =  (combinations_form(K, k) * combinations_form((N-K), (n-k)))/combinations_form(N,n)   # [2]\n",
    "\n",
    "pmf_4_of_6 =  (binomial_coef(6, 4) * binomial_coef((12-6), (6-4)))/binomial_coef(12,6)   # [1]\n",
    "pmf_5_of_6 =  (binomial_coef(6, 5) * binomial_coef((12-6), (6-5)))/binomial_coef(12,6)   # [1]\n",
    "pmf_6_of_6 = (binomial_coef(6, 6) * binomial_coef((12-6), (6-6)))/binomial_coef(12,6)   # [1]\n",
    "\n",
    "print(f'Probability of picking exactly 4 of 6 is {pmf_4_of_6:.4f} \\n' \n",
    "      f'exactly 5 of 6 is {pmf_5_of_6:.4f} \\n' \n",
    "      f'and 6 of 6 is {pmf_6_of_6:.4f}')\n",
    "# Add the probability of exactly 4, 5, 6 to get the probability of at least 4\n",
    "pmf_4_of_6_at_least = pmf_4_of_6 + pmf_5_of_6 + pmf_6_of_6\n",
    "\n",
    "print(f'Probability of picking at least 4 with the attribute {pmf_4_of_6_at_least:.4f}')"
   ]
  },
  {
   "cell_type": "markdown",
   "metadata": {},
   "source": [
    "### Task 2 - numpy's Normal Distribution <a id=\"Task2\"></a> <span style=\"font-size: 8pt;\"> [[TOC]](#toc)</span>"
   ]
  },
  {
   "cell_type": "code",
   "execution_count": 6,
   "metadata": {},
   "outputs": [],
   "source": [
    "# Generate the random normal distributed data with numpy generator\n",
    "\n",
    "import numpy as np\n",
    "import matplotlib.pyplot as plt\n",
    "\n",
    "n = 100000\n",
    "mean = 10\n",
    "st_dev = 3\n",
    "\n",
    "data = np.random.normal(loc=mean, scale=st_dev, size=n)\n"
   ]
  },
  {
   "cell_type": "code",
   "execution_count": 7,
   "metadata": {},
   "outputs": [
    {
     "name": "stderr",
     "output_type": "stream",
     "text": [
      "c:\\Users\\eilis.donohue\\AppData\\Local\\anaconda3\\lib\\site-packages\\scipy\\stats\\_morestats.py:1816: UserWarning: p-value may not be accurate for N > 5000.\n",
      "  warnings.warn(\"p-value may not be accurate for N > 5000.\")\n"
     ]
    },
    {
     "data": {
      "text/plain": [
       "ShapiroResult(statistic=0.9999812841415405, pvalue=0.9409235715866089)"
      ]
     },
     "execution_count": 7,
     "metadata": {},
     "output_type": "execute_result"
    }
   ],
   "source": [
    "# scipy.stats.shapiro() test\n",
    "import scipy\n",
    "scipy.stats.shapiro(data)"
   ]
  },
  {
   "cell_type": "code",
   "execution_count": 8,
   "metadata": {},
   "outputs": [
    {
     "data": {
      "image/png": "[encoded data removed]",
      "text/plain": [
       "<Figure size 800x600 with 1 Axes>"
      ]
     },
     "metadata": {},
     "output_type": "display_data"
    }
   ],
   "source": [
    "# Using scipy stats for normal pdf\n",
    "from scipy.stats import norm\n",
    "\n",
    "no_of_bins = 100\n",
    "plt.figure(figsize=(8, 6))\n",
    "count, bins, _ = plt.hist(data, bins=no_of_bins, density=True)  # Plot the normal random data normalised, return the bins\n",
    "#print(bins)\n",
    "\n",
    "pdf_fitted_norm = norm.pdf(bins, loc=mean, scale=st_dev)\n",
    "plt.plot(bins, pdf_fitted_norm, 'r', label='Normal PDF');\n",
    "plt.legend();"
   ]
  },
  {
   "cell_type": "markdown",
   "metadata": {},
   "source": [
    "### Task 3 - t-test Calculation <a id=\"Task3\"></a> <span style=\"font-size: 8pt;\"> [[TOC]](#toc)</span>"
   ]
  },
  {
   "cell_type": "markdown",
   "metadata": {},
   "source": [
    "### Task 4 - ANOVA <a id=\"Task4\"></a> <span style=\"font-size: 8pt;\"> [[TOC]](#toc)</span>"
   ]
  },
  {
   "cell_type": "markdown",
   "metadata": {},
   "source": [
    "## References <a id=\"Ref\"></a> <span style=\"font-size: 8pt;\"> [[TOC]](#toc)</span>\n",
    "\n",
    "1. https://en.wikipedia.org/wiki/Lady_tasting_tea (accessed 23th Sept 2024)\n",
    "2. https://en.wikipedia.org/wiki/Hypergeometric_distribution (accessed 26th Sept 2024)\n",
    "3. https://numpy.org/doc/stable/reference/random/index.html (accessed 26th Sept 2024)"
   ]
  },
  {
   "cell_type": "markdown",
   "metadata": {},
   "source": []
  },
  {
   "cell_type": "markdown",
   "metadata": {},
   "source": []
  }
 ],
 "metadata": {
  "kernelspec": {
   "display_name": "base",
   "language": "python",
   "name": "python3"
  },
  "language_info": {
   "codemirror_mode": {
    "name": "ipython",
    "version": 3
   },
   "file_extension": ".py",
   "mimetype": "text/x-python",
   "name": "python",
   "nbconvert_exporter": "python",
   "pygments_lexer": "ipython3",
   "version": "3.10.9"
  }
 },
 "nbformat": 4,
 "nbformat_minor": 2
}
